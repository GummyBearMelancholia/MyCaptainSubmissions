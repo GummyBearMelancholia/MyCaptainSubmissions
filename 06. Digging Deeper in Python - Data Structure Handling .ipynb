{
 "cells": [
  {
   "cell_type": "code",
   "execution_count": 2,
   "metadata": {},
   "outputs": [
    {
     "name": "stdout",
     "output_type": "stream",
     "text": [
      "Please enter the element that is to be added to a list:four\n",
      "Your input has been added to a list of integers: ['One', 'Two', 'Three', 'four']\n"
     ]
    }
   ],
   "source": [
    "#Assigning elements to different lists\n",
    "#Owing to ambiguity in the question regarding the different lists, an integer and a string list have been used and the corresponding classifications made for allotment\n",
    "\n",
    "intlist = [1, 2, 3]\n",
    "stringlist = [\"One\", \"Two\", \"Three\"]\n",
    "n = input (\"Please enter the element that is to be added to a list:\")\n",
    "if(n.isdigit()):\n",
    "    intlist.append(int(n))\n",
    "    print(\"Your input has been added to a list of integers:\", intlist)\n",
    "else:\n",
    "    stringlist.append(n)\n",
    "    print(\"Your input has been added to a list of integers:\", stringlist)"
   ]
  },
  {
   "cell_type": "code",
   "execution_count": 7,
   "metadata": {},
   "outputs": [
    {
     "name": "stdout",
     "output_type": "stream",
     "text": [
      "Please enter the serial number of the tuple element you would like to access10\n",
      "The number of elements in the tuple is currently less than  10\n"
     ]
    }
   ],
   "source": [
    "#Accessing elements from a tuple \n",
    "#User is asked to enter the serial number [index+1] of the element they want to access \n",
    "\n",
    "intuple = (1, 2, 3, 4, 5)\n",
    "n = int(input(\"Please enter the serial number of the tuple element you would like to access\"))\n",
    "if(n < len(intuple)):\n",
    "    print(\"The element you have retrieved is:\", intuple[n-1])\n",
    "else:\n",
    "    print(\"The number of elements in the tuple is currently less than \", n)\n"
   ]
  },
  {
   "cell_type": "code",
   "execution_count": 13,
   "metadata": {},
   "outputs": [
    {
     "name": "stdout",
     "output_type": "stream",
     "text": [
      "Please enter the word you would like to delete from the thesaurusveer\n",
      "The thesaurus after deletion is: {'recondite': 'obscure', 'glib': 'insincere', 'loquacious': 'talkative'}\n"
     ]
    }
   ],
   "source": [
    "#Deleting different dictionary elements \n",
    "#User is asked to enter the key of the element they want to delete \n",
    "\n",
    "collins = {\"recondite\": \"obscure\", \"veer\": \"turn\", \"glib\": \"insincere\", \"loquacious\": \"talkative\"}\n",
    "x = input(\"Please enter the word you would like to delete from the thesaurus\")\n",
    "if(x in collins):\n",
    "    del collins[x]\n",
    "    print(\"The thesaurus after deletion is:\", collins)\n",
    "else:\n",
    "    print(\"Sorry, this word was not in our repertoire to begin with.\")\n"
   ]
  },
  {
   "cell_type": "code",
   "execution_count": null,
   "metadata": {},
   "outputs": [],
   "source": []
  },
  {
   "cell_type": "code",
   "execution_count": null,
   "metadata": {},
   "outputs": [],
   "source": []
  }
 ],
 "metadata": {
  "kernelspec": {
   "display_name": "Python 3",
   "language": "python",
   "name": "python3"
  },
  "language_info": {
   "codemirror_mode": {
    "name": "ipython",
    "version": 3
   },
   "file_extension": ".py",
   "mimetype": "text/x-python",
   "name": "python",
   "nbconvert_exporter": "python",
   "pygments_lexer": "ipython3",
   "version": "3.7.6"
  }
 },
 "nbformat": 4,
 "nbformat_minor": 4
}
